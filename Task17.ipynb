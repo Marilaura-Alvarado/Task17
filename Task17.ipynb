{
 "cells": [
  {
   "cell_type": "code",
   "execution_count": 1,
   "id": "17b313bd-d633-472d-ad04-449413201302",
   "metadata": {
    "tags": []
   },
   "outputs": [
    {
     "name": "stdout",
     "output_type": "stream",
     "text": [
      "Requirement already satisfied: ipython-sql in /opt/conda/lib/python3.10/site-packages (0.5.0)\n",
      "Requirement already satisfied: ipython in /opt/conda/lib/python3.10/site-packages (from ipython-sql) (8.11.0)\n",
      "Requirement already satisfied: six in /opt/conda/lib/python3.10/site-packages (from ipython-sql) (1.16.0)\n",
      "Requirement already satisfied: prettytable in /opt/conda/lib/python3.10/site-packages (from ipython-sql) (3.7.0)\n",
      "Requirement already satisfied: ipython-genutils in /opt/conda/lib/python3.10/site-packages (from ipython-sql) (0.2.0)\n",
      "Requirement already satisfied: sqlparse in /opt/conda/lib/python3.10/site-packages (from ipython-sql) (0.4.4)\n",
      "Requirement already satisfied: sqlalchemy>=2.0 in /opt/conda/lib/python3.10/site-packages (from ipython-sql) (2.0.7)\n",
      "Requirement already satisfied: greenlet!=0.4.17 in /opt/conda/lib/python3.10/site-packages (from sqlalchemy>=2.0->ipython-sql) (2.0.2)\n",
      "Requirement already satisfied: typing-extensions>=4.2.0 in /opt/conda/lib/python3.10/site-packages (from sqlalchemy>=2.0->ipython-sql) (4.5.0)\n",
      "Requirement already satisfied: pygments>=2.4.0 in /opt/conda/lib/python3.10/site-packages (from ipython->ipython-sql) (2.14.0)\n",
      "Requirement already satisfied: decorator in /opt/conda/lib/python3.10/site-packages (from ipython->ipython-sql) (5.1.1)\n",
      "Requirement already satisfied: jedi>=0.16 in /opt/conda/lib/python3.10/site-packages (from ipython->ipython-sql) (0.18.2)\n",
      "Requirement already satisfied: stack-data in /opt/conda/lib/python3.10/site-packages (from ipython->ipython-sql) (0.6.2)\n",
      "Requirement already satisfied: prompt-toolkit!=3.0.37,<3.1.0,>=3.0.30 in /opt/conda/lib/python3.10/site-packages (from ipython->ipython-sql) (3.0.38)\n",
      "Requirement already satisfied: backcall in /opt/conda/lib/python3.10/site-packages (from ipython->ipython-sql) (0.2.0)\n",
      "Requirement already satisfied: pickleshare in /opt/conda/lib/python3.10/site-packages (from ipython->ipython-sql) (0.7.5)\n",
      "Requirement already satisfied: pexpect>4.3 in /opt/conda/lib/python3.10/site-packages (from ipython->ipython-sql) (4.8.0)\n",
      "Requirement already satisfied: traitlets>=5 in /opt/conda/lib/python3.10/site-packages (from ipython->ipython-sql) (5.9.0)\n",
      "Requirement already satisfied: matplotlib-inline in /opt/conda/lib/python3.10/site-packages (from ipython->ipython-sql) (0.1.6)\n",
      "Requirement already satisfied: wcwidth in /opt/conda/lib/python3.10/site-packages (from prettytable->ipython-sql) (0.2.6)\n",
      "Requirement already satisfied: parso<0.9.0,>=0.8.0 in /opt/conda/lib/python3.10/site-packages (from jedi>=0.16->ipython->ipython-sql) (0.8.3)\n",
      "Requirement already satisfied: ptyprocess>=0.5 in /opt/conda/lib/python3.10/site-packages (from pexpect>4.3->ipython->ipython-sql) (0.7.0)\n",
      "Requirement already satisfied: pure-eval in /opt/conda/lib/python3.10/site-packages (from stack-data->ipython->ipython-sql) (0.2.2)\n",
      "Requirement already satisfied: asttokens>=2.1.0 in /opt/conda/lib/python3.10/site-packages (from stack-data->ipython->ipython-sql) (2.2.1)\n",
      "Requirement already satisfied: executing>=1.2.0 in /opt/conda/lib/python3.10/site-packages (from stack-data->ipython->ipython-sql) (1.2.0)\n",
      "\u001b[33mWARNING: There was an error checking the latest version of pip.\u001b[0m\u001b[33m\n",
      "\u001b[0mPOSTGRESQL_USER=reader\n",
      "POSTGRESQL_PASSWORD=Miba2021\n"
     ]
    }
   ],
   "source": [
    "!pip install ipython-sql\n",
    "\n",
    "%load_ext sql\n",
    "!env | grep POST\n",
    "import os\n",
    "USER = os.environ['POSTGRESQL_USER']\n",
    "PASSWORD = os.environ['POSTGRESQL_PASSWORD']\n",
    "POSTGRESQL_HOST = '10.129.0.25'\n",
    "DBASE_NAME = 'demo'\n",
    "\n",
    "CONNECT_DATA = 'postgresql://{}:{}@{}/{}'.format(\n",
    "    USER,\n",
    "    PASSWORD,\n",
    "    POSTGRESQL_HOST,\n",
    "    DBASE_NAME\n",
    ")"
   ]
  },
  {
   "cell_type": "code",
   "execution_count": 10,
   "id": "1b14fffb-03d8-4fcb-974c-b1fabeaad1e3",
   "metadata": {
    "tags": []
   },
   "outputs": [
    {
     "name": "stdout",
     "output_type": "stream",
     "text": [
      "4 rows affected.\n"
     ]
    },
    {
     "data": {
      "text/html": [
       "<table>\n",
       "    <thead>\n",
       "        <tr>\n",
       "            <th>passenger_name</th>\n",
       "            <th>departure_airport</th>\n",
       "            <th>arrival_airport</th>\n",
       "        </tr>\n",
       "    </thead>\n",
       "    <tbody>\n",
       "        <tr>\n",
       "            <td>ALEKSEY GERASIMOV</td>\n",
       "            <td>DME</td>\n",
       "            <td>EGO</td>\n",
       "        </tr>\n",
       "        <tr>\n",
       "            <td>ALEKSEY GERASIMOV</td>\n",
       "            <td>AAQ</td>\n",
       "            <td>EGO</td>\n",
       "        </tr>\n",
       "        <tr>\n",
       "            <td>ALEKSEY GERASIMOV</td>\n",
       "            <td>EGO</td>\n",
       "            <td>DME</td>\n",
       "        </tr>\n",
       "        <tr>\n",
       "            <td>ALEKSEY GERASIMOV</td>\n",
       "            <td>EGO</td>\n",
       "            <td>AAQ</td>\n",
       "        </tr>\n",
       "    </tbody>\n",
       "</table>"
      ],
      "text/plain": [
       "[('ALEKSEY GERASIMOV', 'DME', 'EGO'),\n",
       " ('ALEKSEY GERASIMOV', 'AAQ', 'EGO'),\n",
       " ('ALEKSEY GERASIMOV', 'EGO', 'DME'),\n",
       " ('ALEKSEY GERASIMOV', 'EGO', 'AAQ')]"
      ]
     },
     "execution_count": 10,
     "metadata": {},
     "output_type": "execute_result"
    }
   ],
   "source": [
    "%%sql $CONNECT_DATA\n",
    "SELECT passenger_name, departure_airport, arrival_airport\n",
    "FROM (\n",
    "    SELECT ticket_no, flight_id\n",
    "    FROM Ticket_flights\n",
    "    WHERE ticket_no = '0005432312164'\n",
    ") AS tf\n",
    "JOIN (\n",
    "    SELECT ticket_no, passenger_name\n",
    "    FROM Tickets\n",
    ") AS t ON tf.ticket_no = t.ticket_no\n",
    "JOIN (\n",
    "    SELECT flight_id, departure_airport, arrival_airport\n",
    "    FROM Flights\n",
    ") AS f ON tf.flight_id = f.flight_id;"
   ]
  },
  {
   "cell_type": "code",
   "execution_count": 11,
   "id": "2f35f090-e9e6-4b51-9e45-81d034816398",
   "metadata": {
    "tags": []
   },
   "outputs": [
    {
     "name": "stdout",
     "output_type": "stream",
     "text": [
      "4 rows affected.\n"
     ]
    },
    {
     "data": {
      "text/html": [
       "<table>\n",
       "    <thead>\n",
       "        <tr>\n",
       "            <th>passenger_name</th>\n",
       "            <th>departure_airport</th>\n",
       "            <th>arrival_airport</th>\n",
       "        </tr>\n",
       "    </thead>\n",
       "    <tbody>\n",
       "        <tr>\n",
       "            <td>ALEKSEY GERASIMOV</td>\n",
       "            <td>DME</td>\n",
       "            <td>EGO</td>\n",
       "        </tr>\n",
       "        <tr>\n",
       "            <td>ALEKSEY GERASIMOV</td>\n",
       "            <td>AAQ</td>\n",
       "            <td>EGO</td>\n",
       "        </tr>\n",
       "        <tr>\n",
       "            <td>ALEKSEY GERASIMOV</td>\n",
       "            <td>EGO</td>\n",
       "            <td>DME</td>\n",
       "        </tr>\n",
       "        <tr>\n",
       "            <td>ALEKSEY GERASIMOV</td>\n",
       "            <td>EGO</td>\n",
       "            <td>AAQ</td>\n",
       "        </tr>\n",
       "    </tbody>\n",
       "</table>"
      ],
      "text/plain": [
       "[('ALEKSEY GERASIMOV', 'DME', 'EGO'),\n",
       " ('ALEKSEY GERASIMOV', 'AAQ', 'EGO'),\n",
       " ('ALEKSEY GERASIMOV', 'EGO', 'DME'),\n",
       " ('ALEKSEY GERASIMOV', 'EGO', 'AAQ')]"
      ]
     },
     "execution_count": 11,
     "metadata": {},
     "output_type": "execute_result"
    }
   ],
   "source": [
    "%%sql $CONNECT_DATA\n",
    "SELECT passenger_name, departure_airport, arrival_airport\n",
    "FROM Flights, Ticket_flights, Tickets\n",
    "WHERE Flights.flight_id = Ticket_flights.flight_id\n",
    "  AND Ticket_flights.ticket_no = Tickets.ticket_no\n",
    "  AND Ticket_flights.ticket_no = '0005432312164';"
   ]
  },
  {
   "cell_type": "code",
   "execution_count": 12,
   "id": "3e91ce9a-5f73-4378-a1bc-4d0c214850ec",
   "metadata": {
    "tags": []
   },
   "outputs": [
    {
     "name": "stdout",
     "output_type": "stream",
     "text": [
      "4 rows affected.\n"
     ]
    },
    {
     "data": {
      "text/html": [
       "<table>\n",
       "    <thead>\n",
       "        <tr>\n",
       "            <th>passenger_name</th>\n",
       "            <th>departure_airport</th>\n",
       "            <th>arrival_airport</th>\n",
       "        </tr>\n",
       "    </thead>\n",
       "    <tbody>\n",
       "        <tr>\n",
       "            <td>ALEKSEY GERASIMOV</td>\n",
       "            <td>DME</td>\n",
       "            <td>EGO</td>\n",
       "        </tr>\n",
       "        <tr>\n",
       "            <td>ALEKSEY GERASIMOV</td>\n",
       "            <td>AAQ</td>\n",
       "            <td>EGO</td>\n",
       "        </tr>\n",
       "        <tr>\n",
       "            <td>ALEKSEY GERASIMOV</td>\n",
       "            <td>EGO</td>\n",
       "            <td>DME</td>\n",
       "        </tr>\n",
       "        <tr>\n",
       "            <td>ALEKSEY GERASIMOV</td>\n",
       "            <td>EGO</td>\n",
       "            <td>AAQ</td>\n",
       "        </tr>\n",
       "    </tbody>\n",
       "</table>"
      ],
      "text/plain": [
       "[('ALEKSEY GERASIMOV', 'DME', 'EGO'),\n",
       " ('ALEKSEY GERASIMOV', 'AAQ', 'EGO'),\n",
       " ('ALEKSEY GERASIMOV', 'EGO', 'DME'),\n",
       " ('ALEKSEY GERASIMOV', 'EGO', 'AAQ')]"
      ]
     },
     "execution_count": 12,
     "metadata": {},
     "output_type": "execute_result"
    }
   ],
   "source": [
    "%%sql $CONNECT_DATA\n",
    "SELECT passenger_name, departure_airport, arrival_airport\n",
    "FROM Flights\n",
    "JOIN Ticket_flights ON Flights.flight_id = Ticket_flights.flight_id\n",
    "JOIN Tickets ON Ticket_flights.ticket_no = Tickets.ticket_no\n",
    "WHERE Tickets.ticket_no = '0005432312164';"
   ]
  },
  {
   "cell_type": "code",
   "execution_count": 2,
   "id": "305a5612-0fb0-4c51-ba8b-07d51792ffe0",
   "metadata": {
    "tags": []
   },
   "outputs": [
    {
     "name": "stdout",
     "output_type": "stream",
     "text": [
      "7 rows affected.\n"
     ]
    },
    {
     "data": {
      "text/html": [
       "<table>\n",
       "    <thead>\n",
       "        <tr>\n",
       "            <th>departure_city</th>\n",
       "            <th>arrival_city</th>\n",
       "        </tr>\n",
       "    </thead>\n",
       "    <tbody>\n",
       "        <tr>\n",
       "            <td>Moscow</td>\n",
       "            <td>Yekaterinburg</td>\n",
       "        </tr>\n",
       "        <tr>\n",
       "            <td>Yekaterinburg</td>\n",
       "            <td>Moscow</td>\n",
       "        </tr>\n",
       "        <tr>\n",
       "            <td>Yekaterinburg</td>\n",
       "            <td>Magnetiogorsk</td>\n",
       "        </tr>\n",
       "        <tr>\n",
       "            <td>Magnetiogorsk</td>\n",
       "            <td>Yekaterinburg</td>\n",
       "        </tr>\n",
       "        <tr>\n",
       "            <td>Moscow</td>\n",
       "            <td>Yuzhno-Sakhalinsk</td>\n",
       "        </tr>\n",
       "        <tr>\n",
       "            <td>Moscow</td>\n",
       "            <td>Khanty-Mansiysk</td>\n",
       "        </tr>\n",
       "        <tr>\n",
       "            <td>Khanty-Mansiysk</td>\n",
       "            <td>Moscow</td>\n",
       "        </tr>\n",
       "    </tbody>\n",
       "</table>"
      ],
      "text/plain": [
       "[('Moscow', 'Yekaterinburg'),\n",
       " ('Yekaterinburg', 'Moscow'),\n",
       " ('Yekaterinburg', 'Magnetiogorsk'),\n",
       " ('Magnetiogorsk', 'Yekaterinburg'),\n",
       " ('Moscow', 'Yuzhno-Sakhalinsk'),\n",
       " ('Moscow', 'Khanty-Mansiysk'),\n",
       " ('Khanty-Mansiysk', 'Moscow')]"
      ]
     },
     "execution_count": 2,
     "metadata": {},
     "output_type": "execute_result"
    }
   ],
   "source": [
    "%%sql $CONNECT_DATA\n",
    "SELECT dep.city AS departure_city, arr.city AS arrival_city\n",
    "FROM Flights\n",
    "JOIN Ticket_flights USING (flight_id)\n",
    "JOIN Tickets USING (ticket_no)\n",
    "JOIN Airports AS dep ON Flights.departure_airport = dep.airport_code\n",
    "JOIN Airports AS arr ON Flights.arrival_airport = arr.airport_code\n",
    "WHERE Tickets.passenger_name = 'ELLA DMITRIEVA'\n",
    "LIMIT 10;"
   ]
  },
  {
   "cell_type": "code",
   "execution_count": 5,
   "id": "3c12b842-0acd-4186-818b-a8285b8bda62",
   "metadata": {
    "tags": []
   },
   "outputs": [
    {
     "name": "stdout",
     "output_type": "stream",
     "text": [
      "9 rows affected.\n"
     ]
    },
    {
     "data": {
      "text/html": [
       "<table>\n",
       "    <thead>\n",
       "        <tr>\n",
       "            <th>aircraft_model</th>\n",
       "            <th>total_seats</th>\n",
       "        </tr>\n",
       "    </thead>\n",
       "    <tbody>\n",
       "        <tr>\n",
       "            <td>Cessna 208 Caravan</td>\n",
       "            <td>12</td>\n",
       "        </tr>\n",
       "        <tr>\n",
       "            <td>Bombardier CRJ-200</td>\n",
       "            <td>50</td>\n",
       "        </tr>\n",
       "        <tr>\n",
       "            <td>Sukhoi Superjet-100</td>\n",
       "            <td>97</td>\n",
       "        </tr>\n",
       "        <tr>\n",
       "            <td>Airbus A319-100</td>\n",
       "            <td>116</td>\n",
       "        </tr>\n",
       "        <tr>\n",
       "            <td>Boeing 737-300</td>\n",
       "            <td>130</td>\n",
       "        </tr>\n",
       "        <tr>\n",
       "            <td>Airbus A320-200</td>\n",
       "            <td>140</td>\n",
       "        </tr>\n",
       "        <tr>\n",
       "            <td>Airbus A321-200</td>\n",
       "            <td>170</td>\n",
       "        </tr>\n",
       "        <tr>\n",
       "            <td>Boeing 767-300</td>\n",
       "            <td>222</td>\n",
       "        </tr>\n",
       "        <tr>\n",
       "            <td>Boeing 777-300</td>\n",
       "            <td>402</td>\n",
       "        </tr>\n",
       "    </tbody>\n",
       "</table>"
      ],
      "text/plain": [
       "[('Cessna 208 Caravan', 12),\n",
       " ('Bombardier CRJ-200', 50),\n",
       " ('Sukhoi Superjet-100', 97),\n",
       " ('Airbus A319-100', 116),\n",
       " ('Boeing 737-300', 130),\n",
       " ('Airbus A320-200', 140),\n",
       " ('Airbus A321-200', 170),\n",
       " ('Boeing 767-300', 222),\n",
       " ('Boeing 777-300', 402)]"
      ]
     },
     "execution_count": 5,
     "metadata": {},
     "output_type": "execute_result"
    }
   ],
   "source": [
    "%%sql $CONNECT_DATA\n",
    "SELECT Aircrafts.model AS aircraft_model, COUNT(Seats.seat_no) AS total_seats\n",
    "FROM Aircrafts\n",
    "JOIN Seats ON Aircrafts.aircraft_code = Seats.aircraft_code\n",
    "GROUP BY Aircrafts.model\n",
    "ORDER BY total_seats;"
   ]
  }
 ],
 "metadata": {
  "kernelspec": {
   "display_name": "Python 3 (ipykernel)",
   "language": "python",
   "name": "python3"
  },
  "language_info": {
   "codemirror_mode": {
    "name": "ipython",
    "version": 3
   },
   "file_extension": ".py",
   "mimetype": "text/x-python",
   "name": "python",
   "nbconvert_exporter": "python",
   "pygments_lexer": "ipython3",
   "version": "3.10.9"
  }
 },
 "nbformat": 4,
 "nbformat_minor": 5
}
